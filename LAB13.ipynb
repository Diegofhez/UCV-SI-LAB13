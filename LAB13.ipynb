{
  "cells": [
    {
      "cell_type": "markdown",
      "metadata": {
        "id": "view-in-github",
        "colab_type": "text"
      },
      "source": [
        "<a href=\"https://colab.research.google.com/github/Diegofhez/UCV-SI-LAB13/blob/main/LAB13.ipynb\" target=\"_parent\"><img src=\"https://colab.research.google.com/assets/colab-badge.svg\" alt=\"Open In Colab\"/></a>"
      ]
    },
    {
      "cell_type": "code",
      "metadata": {
        "id": "OBSJDnfpn5lz"
      },
      "source": [
        "import pandas as pd\n",
        "\n",
        "data1 = pd.read_csv(\"diabetes.csv\")\n",
        "datat\n",
        "\n",
        "datat.isnul1().sum()"
      ],
      "execution_count": null,
      "outputs": []
    },
    {
      "cell_type": "code",
      "metadata": {
        "id": "Mmk1Snvan5l0"
      },
      "source": [
        "# Gráficos de cajas\n",
        "v_numericas = datal.select_dtypes([\"floate4\", \"int64\"])\n",
        "v_numericas = v_numericas.drop(\"Outcome\", axis=1)\n",
        "v_numericas = list(v_numericas.columns.values)\n",
        "v_numericas\n",
        "\n",
        "data1[v_numericas].plot(kind='box', subplots=True, layout=(3,3),\n",
        "sharex=False, sharey=False, figsize=(10,10))\n",
        "plt.show()"
      ],
      "execution_count": null,
      "outputs": []
    },
    {
      "cell_type": "code",
      "metadata": {
        "id": "1ZfZKbX5n5l0"
      },
      "source": [
        "# Rango intercuartílico\n",
        "def rango_inter(data, var):\n",
        "    Q1 = data[var].quantile(0.25)\n",
        "    Q3 = data[var].quantile(0.75)\n",
        "    IQR = Q3 - Q1\n",
        "    Lim_inf = Q1 - 1.5 * IQR\n",
        "    Lim_sup = Q3 + 1.5 * IQR\n",
        "    lista = data.index[(data[var] < Lim_inf) | (data[var] > Lim_sup)]\n",
        "    return lista\n",
        "\n",
        "lista_indices = []\n",
        "for var in v_numericas:\n",
        "    lista_indices.extend(rango_inter(data1, var))\n",
        "lista_indices\n",
        "\n",
        "def remover(data, lista):\n",
        "    lista = sorted(set(lista))\n",
        "    data = data.drop(lista)\n",
        "    return data\n",
        "\n",
        "datal = remover(date1, lista_indices)"
      ],
      "execution_count": null,
      "outputs": []
    },
    {
      "cell_type": "code",
      "metadata": {
        "id": "m-NTzggKn5l1"
      },
      "source": [
        "# Distancias de Mahalanobis\n",
        "from scipy.spatial.distance import mahalanobis\n",
        "import scipy as sp\n",
        "\n",
        "X = data1[v_numericas]\n",
        "Sx = X.cov().values\n",
        "IC = sp.linalg.inv(Sx)\n",
        "media = X.mean().values\n",
        "\n",
        "def mahalanobisR(X, media, IC):\n",
        "    m = []\n",
        "    for i in range(X.shape[0]):\n",
        "        m.append(mahalanobis(X.iloc[i,:], media, IC) ** 2)\n",
        "    return m\n",
        "\n",
        "distMaha = pd.DataFrame(mahalanobisR(X, media, IC))\n",
        "data1['distMaha'] = distMaha\n",
        "data1"
      ],
      "execution_count": null,
      "outputs": []
    },
    {
      "cell_type": "code",
      "metadata": {
        "id": "6rYMOyeAn5l1"
      },
      "source": [
        "# Gráfico distancias\n",
        "data1['index'] = data1.index\n",
        "import matplotlib.pyplot as plt\n",
        "plt.scatter(data1['index'], data1['distMaha'])\n",
        "\n",
        "data_elim = data1[data1['distMaha'] > 15]\n",
        "elim = data_elim['index']\n",
        "data1 = data1.drop(elim, axis=0)\n",
        "data1 = data1.drop(['distMaha', 'index'], axis=1)\n",
        "data1"
      ],
      "execution_count": null,
      "outputs": []
    },
    {
      "cell_type": "code",
      "metadata": {
        "id": "9o7JxPX7n5l1"
      },
      "source": [
        "# Desbalanceo de clases\n",
        "datat[v_numericas]\n",
        "data1['Outcome']\n",
        "\n",
        "import seaborn as sns\n",
        "sns.countplot(x='Outcome', data=data1, palette='hls')\n",
        "plt.show()\n",
        "\n",
        "print(data1['Outcome'].value_counts())"
      ],
      "execution_count": null,
      "outputs": []
    }
  ],
  "metadata": {
    "kernelspec": {
      "display_name": "Python 3",
      "language": "python",
      "name": "python3"
    },
    "language_info": {
      "name": "python",
      "version": "3.x"
    },
    "colab": {
      "provenance": [],
      "include_colab_link": true
    }
  },
  "nbformat": 4,
  "nbformat_minor": 0
}